{
  "cells": [
    {
      "cell_type": "code",
      "execution_count": 1,
      "metadata": {
        "id": "JAp1OoQGtWE0"
      },
      "outputs": [],
      "source": [
        "from urllib.parse import urlencode, unquote\n",
        "import requests\n",
        "import json\n",
        "import pandas as pd\n",
        "import math\n",
        "import numpy as np\n",
        "from datetime import datetime, date, timedelta"
      ]
    },
    {
      "cell_type": "markdown",
      "metadata": {
        "id": "YCAaPHnkr--v"
      },
      "source": [
        "\n",
        "### 분류\t파라미터명\t설명\n",
        "1. **데이터타입**\t**dataType**\tAPI 데이터를 리턴받는 타입을 지정하는 설정 값\n",
        "2. **조회건수**\t**searchCnt**\t지원사업 조회시 조회건수를 지정하여 조회하는 설정 값\n",
        "(0 또는 값이 없을 경우 전체 데이터 제공)\n",
        "3. **분야**\t**searchLclasId**\t지원사업 조회시 분야를 지정하여 조회하는 설정 값\n",
        ">>\n",
        "- 01\t금융\n",
        "- 02\t기술\n",
        "- 03\t인력\n",
        "- 04\t수출\n",
        "- 05\t내수\n",
        "- 06\t창업\n",
        "- 07\t경영\n",
        "- 09\t기타\n",
        "4. **해시태그**\t**hashtags**\t지원사업 조회시 해시태그를 지정하여 조회하는 설정 값 (다중입력가능)\n",
        ">>\n",
        "- 금융\t금융 분야 해시태그\n",
        "- 기술\t기술 분야 해시태그\n",
        "- 인력\t인력 분야 해시태그\n",
        "- 수출\t수출 분야 해시태그\n",
        "- 내수\t내수 분야 해시태그\n",
        "- 창업\t창업 분야 해시태그\n",
        "- 경영\t경영 분야 해시태그\n",
        "- 기타\t기타 분야 해시태그\n",
        "- 서울\t서울 지역 해시태그\n",
        "- 부산\t부산 지역 해시태그\n",
        "- 대구\t대구 지역 해시태그\n",
        "- 인천\t인천 지역 해시태그\n",
        "- 광주\t광주 지역 해시태그\n",
        "- 대전\t대전 지역 해시태그\n",
        "- 울산\t울산 지역 해시태그\n",
        "- 세종\t세종 지역 해시태그\n",
        "- 경기\t경기 지역 해시태그\n",
        "- 강원\t강원 지역 해시태그\n",
        "- 충북\t충북 지역 해시태그\n",
        "- 충남\t충남 지역 해시태그\n",
        "- 전북\t전북 지역 해시태그\n",
        "- 전남\t전남 지역 해시태그\n",
        "- 경북\t경북 지역 해시태그\n",
        "- 경남\t경남 지역 해시태그\n",
        "- 제주\t제주 지역 해시태그\n",
        "5. **데이터개수**\t**pageUnit**\t지원사업 조회시 한 페이지에 보여줄 수 있는 데이터 개수의 설정 값\n",
        "6. **페이지수**\t**pageIndex**\t지원사업 조회시 화면에 보여줄 페이지 사이즈의 설정 값\n",
        "\n"
      ]
    },
    {
      "cell_type": "code",
      "execution_count": 2,
      "metadata": {
        "id": "tTpf8c31rgns"
      },
      "outputs": [],
      "source": [
        "# url = \"https://www.bizinfo.go.kr/uss/rss/bizinfoApi.do?crtfcKey=f44MIl&dataType=json&searchCnt&searchLclasId&hashtags\"\n",
        "url = \"https://www.bizinfo.go.kr/uss/rss/bizinfoApi.do\"\n",
        "\n",
        "# queryString 입력 \n",
        "queryString = \"?\" + urlencode(\n",
        "    {\n",
        "     \"crtfcKey\": \"f44MIl\",  # 본인의 서비스 키 입력\n",
        "     \"dataType\" : \"json\",   # json, rss\n",
        "     #\"searchCnt\": 500,\n",
        "     #\"searchLclasId\": \"06\",\n",
        "     #\"hashtags\": \"서울\",\n",
        "     #\"pageUnit\": \"\",\n",
        "     #\"pageIndex\" : \"\"\n",
        "    }\n",
        ")"
      ]
    },
    {
      "cell_type": "code",
      "execution_count": 3,
      "metadata": {
        "id": "FpVcMphivRpP"
      },
      "outputs": [],
      "source": [
        "# 최종 요청 URL\n",
        "queryURL = url + queryString"
      ]
    },
    {
      "cell_type": "code",
      "execution_count": 4,
      "metadata": {
        "colab": {
          "base_uri": "https://localhost:8080/",
          "height": 35
        },
        "id": "hOQtpu3-wk4M",
        "outputId": "6212f110-8361-4173-fced-1cf1eb2ac507"
      },
      "outputs": [
        {
          "data": {
            "text/plain": [
              "'https://www.bizinfo.go.kr/uss/rss/bizinfoApi.do?crtfcKey=f44MIl&dataType=json'"
            ]
          },
          "execution_count": 4,
          "metadata": {},
          "output_type": "execute_result"
        }
      ],
      "source": [
        "queryURL"
      ]
    },
    {
      "cell_type": "code",
      "execution_count": 5,
      "metadata": {
        "id": "rB0ElRSzva8D"
      },
      "outputs": [],
      "source": [
        "# API 호출\n",
        "response = requests.get(queryURL)"
      ]
    },
    {
      "cell_type": "code",
      "execution_count": 6,
      "metadata": {
        "colab": {
          "base_uri": "https://localhost:8080/"
        },
        "id": "3wCu2Wt7vgbL",
        "outputId": "00bf6b75-27e6-423c-827e-43ecaee549be"
      },
      "outputs": [
        {
          "data": {
            "text/plain": [
              "<Response [200]>"
            ]
          },
          "execution_count": 6,
          "metadata": {},
          "output_type": "execute_result"
        }
      ],
      "source": [
        "response"
      ]
    },
    {
      "cell_type": "code",
      "execution_count": 7,
      "metadata": {
        "id": "cfyosqc4xSC6"
      },
      "outputs": [],
      "source": [
        "r_dict = json.loads(response.text)"
      ]
    },
    {
      "cell_type": "code",
      "execution_count": 9,
      "metadata": {
        "id": "fEg2meRtxWNw"
      },
      "outputs": [],
      "source": [
        "data = r_dict[\"jsonArray\"]"
      ]
    },
    {
      "cell_type": "code",
      "execution_count": 10,
      "metadata": {
        "colab": {
          "base_uri": "https://localhost:8080/",
          "height": 419
        },
        "id": "rXTsYyiiOuBL",
        "outputId": "e6e8b9d0-097b-434f-8ae5-206dd7278bb1"
      },
      "outputs": [
        {
          "data": {
            "text/html": [
              "<div>\n",
              "<style scoped>\n",
              "    .dataframe tbody tr th:only-of-type {\n",
              "        vertical-align: middle;\n",
              "    }\n",
              "\n",
              "    .dataframe tbody tr th {\n",
              "        vertical-align: top;\n",
              "    }\n",
              "\n",
              "    .dataframe thead th {\n",
              "        text-align: right;\n",
              "    }\n",
              "</style>\n",
              "<table border=\"1\" class=\"dataframe\">\n",
              "  <thead>\n",
              "    <tr style=\"text-align: right;\">\n",
              "      <th></th>\n",
              "      <th>inqireCo</th>\n",
              "      <th>totCnt</th>\n",
              "      <th>pblancUrl</th>\n",
              "      <th>jrsdInsttNm</th>\n",
              "      <th>printFlpthNm</th>\n",
              "      <th>trgetNm</th>\n",
              "      <th>pldirSportRealmLclasCodeNm</th>\n",
              "      <th>bsnsSumryCn</th>\n",
              "      <th>flpthNm</th>\n",
              "      <th>reqstBeginEndDe</th>\n",
              "      <th>printFileNm</th>\n",
              "      <th>pldirSportRealmMlsfcCodeNm</th>\n",
              "      <th>excInsttNm</th>\n",
              "      <th>pblancNm</th>\n",
              "      <th>hashtags</th>\n",
              "      <th>fileNm</th>\n",
              "      <th>creatPnttm</th>\n",
              "      <th>pblancId</th>\n",
              "      <th>industNm</th>\n",
              "      <th>areaNm</th>\n",
              "    </tr>\n",
              "  </thead>\n",
              "  <tbody>\n",
              "    <tr>\n",
              "      <th>0</th>\n",
              "      <td>274</td>\n",
              "      <td>1614</td>\n",
              "      <td>/web/lay1/bbs/S1T122C128/AS/74/view.do?pblancI...</td>\n",
              "      <td>국토교통부</td>\n",
              "      <td>https://www.bizinfo.go.kr/cmm/fms/getImageFile...</td>\n",
              "      <td>중소기업</td>\n",
              "      <td>기술</td>\n",
              "      <td>&lt;p&gt;국토교통분야 미래 신성장동력 창출 및 국민의 삶의 질을 향상시키기 위해 국토교...</td>\n",
              "      <td>https://www.bizinfo.go.kr/cmm/fms/getImageFile...</td>\n",
              "      <td>20220810 ~ 20220817</td>\n",
              "      <td>2022년 국토교통연구기획사업 시행 재공고문.hwp</td>\n",
              "      <td>혼합(단독+공동)</td>\n",
              "      <td>국토교통과학기술진흥원</td>\n",
              "      <td>2022년 국토교통연구기획사업 시행 재공고</td>\n",
              "      <td>인천,서울,제주,울산,대구,강원,경기,전남,세종,경남,충남,기술,충북,경북,부산,광...</td>\n",
              "      <td>관련 서식.zip@참고자료.zip@2022년 국토교통연구기획사업 시행 재공고 안내서...</td>\n",
              "      <td>2022-08-10 14:57:18</td>\n",
              "      <td>PBLN_000000000079603</td>\n",
              "      <td>NaN</td>\n",
              "      <td>NaN</td>\n",
              "    </tr>\n",
              "    <tr>\n",
              "      <th>1</th>\n",
              "      <td>125</td>\n",
              "      <td>1614</td>\n",
              "      <td>/web/lay1/bbs/S1T122C128/AS/74/view.do?pblancI...</td>\n",
              "      <td>광주광역시</td>\n",
              "      <td>https://www.bizinfo.go.kr/cmm/fms/getImageFile...</td>\n",
              "      <td>중소기업</td>\n",
              "      <td>수출</td>\n",
              "      <td>&lt;p&gt;광주광역시 내 수출 유망기업의 해외판로개척 지원을 위해 상품등록 및 바이어 발...</td>\n",
              "      <td>NaN</td>\n",
              "      <td>20220810 ~ 20220823</td>\n",
              "      <td>2022광주중동온라인사절단모집공고문.hwp</td>\n",
              "      <td>해외진출준비</td>\n",
              "      <td>KOTRA광주전남지원단</td>\n",
              "      <td>[광주] 2022년 중동 자동차부품 등 온라인 사절단 모집 공고</td>\n",
              "      <td>광주,수출</td>\n",
              "      <td>NaN</td>\n",
              "      <td>2022-08-10 14:56:44</td>\n",
              "      <td>PBLN_000000000079602</td>\n",
              "      <td>NaN</td>\n",
              "      <td>NaN</td>\n",
              "    </tr>\n",
              "  </tbody>\n",
              "</table>\n",
              "</div>"
            ],
            "text/plain": [
              "   inqireCo  totCnt                                          pblancUrl  \\\n",
              "0       274    1614  /web/lay1/bbs/S1T122C128/AS/74/view.do?pblancI...   \n",
              "1       125    1614  /web/lay1/bbs/S1T122C128/AS/74/view.do?pblancI...   \n",
              "\n",
              "  jrsdInsttNm                                       printFlpthNm trgetNm  \\\n",
              "0       국토교통부  https://www.bizinfo.go.kr/cmm/fms/getImageFile...    중소기업   \n",
              "1       광주광역시  https://www.bizinfo.go.kr/cmm/fms/getImageFile...    중소기업   \n",
              "\n",
              "  pldirSportRealmLclasCodeNm  \\\n",
              "0                         기술   \n",
              "1                         수출   \n",
              "\n",
              "                                         bsnsSumryCn  \\\n",
              "0  <p>국토교통분야 미래 신성장동력 창출 및 국민의 삶의 질을 향상시키기 위해 국토교...   \n",
              "1  <p>광주광역시 내 수출 유망기업의 해외판로개척 지원을 위해 상품등록 및 바이어 발...   \n",
              "\n",
              "                                             flpthNm      reqstBeginEndDe  \\\n",
              "0  https://www.bizinfo.go.kr/cmm/fms/getImageFile...  20220810 ~ 20220817   \n",
              "1                                                NaN  20220810 ~ 20220823   \n",
              "\n",
              "                    printFileNm pldirSportRealmMlsfcCodeNm    excInsttNm  \\\n",
              "0  2022년 국토교통연구기획사업 시행 재공고문.hwp                  혼합(단독+공동)   국토교통과학기술진흥원   \n",
              "1       2022광주중동온라인사절단모집공고문.hwp                     해외진출준비  KOTRA광주전남지원단   \n",
              "\n",
              "                              pblancNm  \\\n",
              "0              2022년 국토교통연구기획사업 시행 재공고   \n",
              "1  [광주] 2022년 중동 자동차부품 등 온라인 사절단 모집 공고   \n",
              "\n",
              "                                            hashtags  \\\n",
              "0  인천,서울,제주,울산,대구,강원,경기,전남,세종,경남,충남,기술,충북,경북,부산,광...   \n",
              "1                                              광주,수출   \n",
              "\n",
              "                                              fileNm           creatPnttm  \\\n",
              "0  관련 서식.zip@참고자료.zip@2022년 국토교통연구기획사업 시행 재공고 안내서...  2022-08-10 14:57:18   \n",
              "1                                                NaN  2022-08-10 14:56:44   \n",
              "\n",
              "               pblancId industNm areaNm  \n",
              "0  PBLN_000000000079603      NaN    NaN  \n",
              "1  PBLN_000000000079602      NaN    NaN  "
            ]
          },
          "execution_count": 10,
          "metadata": {},
          "output_type": "execute_result"
        }
      ],
      "source": [
        "pd.DataFrame.from_dict(data).head(2)"
      ]
    },
    {
      "cell_type": "code",
      "execution_count": 11,
      "metadata": {
        "id": "RpeRsvW7PkrW"
      },
      "outputs": [],
      "source": [
        "data = pd.DataFrame.from_dict(data)"
      ]
    },
    {
      "cell_type": "code",
      "execution_count": 12,
      "metadata": {
        "colab": {
          "base_uri": "https://localhost:8080/"
        },
        "id": "cVufmJkik_ZE",
        "outputId": "1170cb4f-dd87-427e-8ca8-4f24c05127cb"
      },
      "outputs": [
        {
          "name": "stdout",
          "output_type": "stream",
          "text": [
            "<class 'pandas.core.frame.DataFrame'>\n",
            "RangeIndex: 1614 entries, 0 to 1613\n",
            "Data columns (total 20 columns):\n",
            " #   Column                      Non-Null Count  Dtype \n",
            "---  ------                      --------------  ----- \n",
            " 0   inqireCo                    1614 non-null   int64 \n",
            " 1   totCnt                      1614 non-null   int64 \n",
            " 2   pblancUrl                   1614 non-null   object\n",
            " 3   jrsdInsttNm                 1614 non-null   object\n",
            " 4   printFlpthNm                1549 non-null   object\n",
            " 5   trgetNm                     1614 non-null   object\n",
            " 6   pldirSportRealmLclasCodeNm  1614 non-null   object\n",
            " 7   bsnsSumryCn                 1614 non-null   object\n",
            " 8   flpthNm                     1236 non-null   object\n",
            " 9   reqstBeginEndDe             1614 non-null   object\n",
            " 10  printFileNm                 1549 non-null   object\n",
            " 11  pldirSportRealmMlsfcCodeNm  1612 non-null   object\n",
            " 12  excInsttNm                  1614 non-null   object\n",
            " 13  pblancNm                    1614 non-null   object\n",
            " 14  hashtags                    1614 non-null   object\n",
            " 15  fileNm                      1236 non-null   object\n",
            " 16  creatPnttm                  1614 non-null   object\n",
            " 17  pblancId                    1614 non-null   object\n",
            " 18  industNm                    454 non-null    object\n",
            " 19  areaNm                      454 non-null    object\n",
            "dtypes: int64(2), object(18)\n",
            "memory usage: 252.3+ KB\n"
          ]
        }
      ],
      "source": [
        "data.info()"
      ]
    },
    {
      "cell_type": "code",
      "execution_count": 13,
      "metadata": {
        "id": "qYC9J4GEP1ay"
      },
      "outputs": [],
      "source": [
        "# info = ['pblancNm', 'excInsttNm', 'reqstBeginEndDe', 'hashtags', 'trgetNm', 'pldirSportRealmLclasCodeNm', 'pldirSportRealmMlsfcCodeNm', 'printFlpthNm', 'creatPnttm']"
      ]
    },
    {
      "cell_type": "code",
      "execution_count": 14,
      "metadata": {
        "id": "e-STig6TOLmH"
      },
      "outputs": [],
      "source": [
        "# data = data[info]"
      ]
    },
    {
      "cell_type": "code",
      "execution_count": 15,
      "metadata": {
        "id": "qgCsknnQQI4m"
      },
      "outputs": [],
      "source": [
        "data.to_csv('C:/Django/Data_Processing/Data/기업정책.csv', encoding = 'utf-8-sig', index=False)"
      ]
    },
    {
      "cell_type": "code",
      "execution_count": 16,
      "metadata": {
        "id": "9Ep2efnAS_lK"
      },
      "outputs": [],
      "source": [
        "import sqlite3"
      ]
    },
    {
      "cell_type": "code",
      "execution_count": 17,
      "metadata": {},
      "outputs": [
        {
          "data": {
            "text/plain": [
              "1614"
            ]
          },
          "execution_count": 17,
          "metadata": {},
          "output_type": "execute_result"
        }
      ],
      "source": [
        "con = sqlite3.connect(\"C:\\ioneU\\Data\\Data_Processing\\Data\\IONEJOB.db\")\n",
        "data.to_sql('기업정책',con)"
      ]
    },
    {
      "cell_type": "code",
      "execution_count": 18,
      "metadata": {},
      "outputs": [],
      "source": [
        "con.commit()"
      ]
    }
  ],
  "metadata": {
    "colab": {
      "collapsed_sections": [],
      "name": "API[기업마당].ipynb",
      "provenance": []
    },
    "kernelspec": {
      "display_name": "Python 3.10.6 ('.venv': venv)",
      "language": "python",
      "name": "python3"
    },
    "language_info": {
      "codemirror_mode": {
        "name": "ipython",
        "version": 3
      },
      "file_extension": ".py",
      "mimetype": "text/x-python",
      "name": "python",
      "nbconvert_exporter": "python",
      "pygments_lexer": "ipython3",
      "version": "3.10.6"
    },
    "vscode": {
      "interpreter": {
        "hash": "36923c5e2eaa7819b704acac1f9f2dafb0959bb21a228b12af6fb53c608d7776"
      }
    }
  },
  "nbformat": 4,
  "nbformat_minor": 0
}
