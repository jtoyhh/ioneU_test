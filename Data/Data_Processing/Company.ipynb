{
 "cells": [
  {
   "cell_type": "code",
   "execution_count": 1,
   "metadata": {},
   "outputs": [],
   "source": [
    "import pandas as pd"
   ]
  },
  {
   "cell_type": "code",
   "execution_count": 2,
   "metadata": {},
   "outputs": [],
   "source": [
    "data = pd.read_excel('C:/Django/Data_Processing/Data/iONEUProject_Company List_v3.xlsx', index_col=0)"
   ]
  },
  {
   "cell_type": "code",
   "execution_count": 3,
   "metadata": {},
   "outputs": [],
   "source": [
    "data = data.rename(columns=data.iloc[0]).drop(data.index[0])"
   ]
  },
  {
   "cell_type": "code",
   "execution_count": 4,
   "metadata": {},
   "outputs": [],
   "source": [
    "data.index = data.index.astype(\"int\")"
   ]
  },
  {
   "cell_type": "code",
   "execution_count": 5,
   "metadata": {},
   "outputs": [
    {
     "data": {
      "text/html": [
       "<div>\n",
       "<style scoped>\n",
       "    .dataframe tbody tr th:only-of-type {\n",
       "        vertical-align: middle;\n",
       "    }\n",
       "\n",
       "    .dataframe tbody tr th {\n",
       "        vertical-align: top;\n",
       "    }\n",
       "\n",
       "    .dataframe thead th {\n",
       "        text-align: right;\n",
       "    }\n",
       "</style>\n",
       "<table border=\"1\" class=\"dataframe\">\n",
       "  <thead>\n",
       "    <tr style=\"text-align: right;\">\n",
       "      <th></th>\n",
       "      <th>기업명</th>\n",
       "      <th>해시태그</th>\n",
       "      <th>정책</th>\n",
       "      <th>정기보너스</th>\n",
       "      <th>인센티브제</th>\n",
       "      <th>스톡옵션</th>\n",
       "      <th>우수사원포상</th>\n",
       "      <th>노타이</th>\n",
       "      <th>자유복장</th>\n",
       "      <th>출퇴근선택시간제</th>\n",
       "      <th>...</th>\n",
       "      <th>도서구입비지원</th>\n",
       "      <th>신입사원교육</th>\n",
       "      <th>직무능력향상교육</th>\n",
       "      <th>리더십강화교육</th>\n",
       "      <th>자기계발비지원</th>\n",
       "      <th>주요사업</th>\n",
       "      <th>산업1</th>\n",
       "      <th>산업2</th>\n",
       "      <th>산업3</th>\n",
       "      <th>산업4</th>\n",
       "    </tr>\n",
       "  </thead>\n",
       "  <tbody>\n",
       "    <tr>\n",
       "      <th>1</th>\n",
       "      <td>천일엔지니어링(주)</td>\n",
       "      <td>금융</td>\n",
       "      <td>2022년 중소기업 매출채권 팩토링 지원계획 공고</td>\n",
       "      <td>0</td>\n",
       "      <td>0</td>\n",
       "      <td>0</td>\n",
       "      <td>1</td>\n",
       "      <td>0</td>\n",
       "      <td>0</td>\n",
       "      <td>0</td>\n",
       "      <td>...</td>\n",
       "      <td>0</td>\n",
       "      <td>0</td>\n",
       "      <td>0</td>\n",
       "      <td>0</td>\n",
       "      <td>0</td>\n",
       "      <td>자동차용 플라스틱 사출성형 제품 제조</td>\n",
       "      <td>기계</td>\n",
       "      <td>설비</td>\n",
       "      <td>자동차</td>\n",
       "      <td>NaN</td>\n",
       "    </tr>\n",
       "    <tr>\n",
       "      <th>2</th>\n",
       "      <td>(주)에스티엠테크놀로지</td>\n",
       "      <td>금융</td>\n",
       "      <td>2022년 중소기업 매출채권 팩토링 지원계획 공고</td>\n",
       "      <td>0</td>\n",
       "      <td>1</td>\n",
       "      <td>0</td>\n",
       "      <td>1</td>\n",
       "      <td>1</td>\n",
       "      <td>0</td>\n",
       "      <td>0</td>\n",
       "      <td>...</td>\n",
       "      <td>0</td>\n",
       "      <td>1</td>\n",
       "      <td>0</td>\n",
       "      <td>0</td>\n",
       "      <td>0</td>\n",
       "      <td>반도체관련부품, 전지전자 부품</td>\n",
       "      <td>제조업</td>\n",
       "      <td>NaN</td>\n",
       "      <td>NaN</td>\n",
       "      <td>NaN</td>\n",
       "    </tr>\n",
       "  </tbody>\n",
       "</table>\n",
       "<p>2 rows × 29 columns</p>\n",
       "</div>"
      ],
      "text/plain": [
       "            기업명 해시태그                           정책 정기보너스 인센티브제 스톡옵션 우수사원포상 노타이  \\\n",
       "1    천일엔지니어링(주)   금융  2022년 중소기업 매출채권 팩토링 지원계획 공고     0     0    0      1   0   \n",
       "2  (주)에스티엠테크놀로지   금융  2022년 중소기업 매출채권 팩토링 지원계획 공고     0     1    0      1   1   \n",
       "\n",
       "  자유복장 출퇴근선택시간제  ... 도서구입비지원 신입사원교육 직무능력향상교육 리더십강화교육 자기계발비지원  \\\n",
       "1    0        0  ...       0      0        0       0       0   \n",
       "2    0        0  ...       0      1        0       0       0   \n",
       "\n",
       "                   주요사업  산업1  산업2  산업3  산업4  \n",
       "1  자동차용 플라스틱 사출성형 제품 제조   기계   설비  자동차  NaN  \n",
       "2      반도체관련부품, 전지전자 부품  제조업  NaN  NaN  NaN  \n",
       "\n",
       "[2 rows x 29 columns]"
      ]
     },
     "execution_count": 5,
     "metadata": {},
     "output_type": "execute_result"
    }
   ],
   "source": [
    "data.head(2)"
   ]
  },
  {
   "cell_type": "code",
   "execution_count": 6,
   "metadata": {},
   "outputs": [],
   "source": [
    "data['성과보상'] = data['정기보너스'] + data['인센티브제'] + data['스톡옵션'] + data['우수사원포상']\n",
    "data['열린문화'] = data['노타이'] + data['자유복장'] + data['출퇴근선택시간제'] + data['기숙사운영']\n",
    "data['건강한삶'] = data['건강검진'] + data['체력단련실'] + data['사내동호회'] + data['구내식당'] + data['점심식사 제공'] + data['저녁식사 제공']\n",
    "data['역량성장'] = data['자격증취득지원'] + data['교육비지원'] + data['도서구입비지원'] + data['신입사원교육'] + data['직무능력향상교육'] + data['리더십강화교육'] + data['자기계발비지원']"
   ]
  },
  {
   "cell_type": "code",
   "execution_count": 7,
   "metadata": {},
   "outputs": [],
   "source": [
    "data['성과보상'] = data['성과보상'] >= 2\n",
    "data['열린문화'] = data['열린문화'] >= 2\n",
    "data['건강한삶'] = data['건강한삶'] >= 3\n",
    "data['역량성장'] = data['역량성장'] >= 3"
   ]
  },
  {
   "cell_type": "code",
   "execution_count": 8,
   "metadata": {},
   "outputs": [
    {
     "data": {
      "text/plain": [
       "1    False\n",
       "2     True\n",
       "3     True\n",
       "Name: 성과보상, dtype: bool"
      ]
     },
     "execution_count": 8,
     "metadata": {},
     "output_type": "execute_result"
    }
   ],
   "source": [
    "data['성과보상'].head(3)"
   ]
  },
  {
   "cell_type": "code",
   "execution_count": 9,
   "metadata": {},
   "outputs": [
    {
     "data": {
      "text/plain": [
       "1    False\n",
       "2     True\n",
       "3     True\n",
       "Name: 열린문화, dtype: bool"
      ]
     },
     "execution_count": 9,
     "metadata": {},
     "output_type": "execute_result"
    }
   ],
   "source": [
    "data['열린문화'].head(3)"
   ]
  },
  {
   "cell_type": "code",
   "execution_count": 10,
   "metadata": {},
   "outputs": [
    {
     "data": {
      "text/plain": [
       "1    True\n",
       "2    True\n",
       "3    True\n",
       "Name: 건강한삶, dtype: bool"
      ]
     },
     "execution_count": 10,
     "metadata": {},
     "output_type": "execute_result"
    }
   ],
   "source": [
    "data['건강한삶'].head(3)"
   ]
  },
  {
   "cell_type": "code",
   "execution_count": 11,
   "metadata": {},
   "outputs": [
    {
     "data": {
      "text/plain": [
       "1    False\n",
       "2    False\n",
       "3     True\n",
       "Name: 역량성장, dtype: bool"
      ]
     },
     "execution_count": 11,
     "metadata": {},
     "output_type": "execute_result"
    }
   ],
   "source": [
    "data['역량성장'].head(3)"
   ]
  },
  {
   "cell_type": "code",
   "execution_count": 12,
   "metadata": {},
   "outputs": [
    {
     "data": {
      "text/html": [
       "<div>\n",
       "<style scoped>\n",
       "    .dataframe tbody tr th:only-of-type {\n",
       "        vertical-align: middle;\n",
       "    }\n",
       "\n",
       "    .dataframe tbody tr th {\n",
       "        vertical-align: top;\n",
       "    }\n",
       "\n",
       "    .dataframe thead th {\n",
       "        text-align: right;\n",
       "    }\n",
       "</style>\n",
       "<table border=\"1\" class=\"dataframe\">\n",
       "  <thead>\n",
       "    <tr style=\"text-align: right;\">\n",
       "      <th></th>\n",
       "      <th>기업명</th>\n",
       "      <th>해시태그</th>\n",
       "      <th>정책</th>\n",
       "      <th>정기보너스</th>\n",
       "      <th>인센티브제</th>\n",
       "      <th>스톡옵션</th>\n",
       "      <th>우수사원포상</th>\n",
       "      <th>노타이</th>\n",
       "      <th>자유복장</th>\n",
       "      <th>출퇴근선택시간제</th>\n",
       "      <th>...</th>\n",
       "      <th>자기계발비지원</th>\n",
       "      <th>주요사업</th>\n",
       "      <th>산업1</th>\n",
       "      <th>산업2</th>\n",
       "      <th>산업3</th>\n",
       "      <th>산업4</th>\n",
       "      <th>성과보상</th>\n",
       "      <th>열린문화</th>\n",
       "      <th>건강한삶</th>\n",
       "      <th>역량성장</th>\n",
       "    </tr>\n",
       "  </thead>\n",
       "  <tbody>\n",
       "    <tr>\n",
       "      <th>1</th>\n",
       "      <td>천일엔지니어링(주)</td>\n",
       "      <td>금융</td>\n",
       "      <td>2022년 중소기업 매출채권 팩토링 지원계획 공고</td>\n",
       "      <td>0</td>\n",
       "      <td>0</td>\n",
       "      <td>0</td>\n",
       "      <td>1</td>\n",
       "      <td>0</td>\n",
       "      <td>0</td>\n",
       "      <td>0</td>\n",
       "      <td>...</td>\n",
       "      <td>0</td>\n",
       "      <td>자동차용 플라스틱 사출성형 제품 제조</td>\n",
       "      <td>기계</td>\n",
       "      <td>설비</td>\n",
       "      <td>자동차</td>\n",
       "      <td>NaN</td>\n",
       "      <td>False</td>\n",
       "      <td>False</td>\n",
       "      <td>True</td>\n",
       "      <td>False</td>\n",
       "    </tr>\n",
       "    <tr>\n",
       "      <th>2</th>\n",
       "      <td>(주)에스티엠테크놀로지</td>\n",
       "      <td>금융</td>\n",
       "      <td>2022년 중소기업 매출채권 팩토링 지원계획 공고</td>\n",
       "      <td>0</td>\n",
       "      <td>1</td>\n",
       "      <td>0</td>\n",
       "      <td>1</td>\n",
       "      <td>1</td>\n",
       "      <td>0</td>\n",
       "      <td>0</td>\n",
       "      <td>...</td>\n",
       "      <td>0</td>\n",
       "      <td>반도체관련부품, 전지전자 부품</td>\n",
       "      <td>제조업</td>\n",
       "      <td>NaN</td>\n",
       "      <td>NaN</td>\n",
       "      <td>NaN</td>\n",
       "      <td>True</td>\n",
       "      <td>True</td>\n",
       "      <td>True</td>\n",
       "      <td>False</td>\n",
       "    </tr>\n",
       "  </tbody>\n",
       "</table>\n",
       "<p>2 rows × 33 columns</p>\n",
       "</div>"
      ],
      "text/plain": [
       "            기업명 해시태그                           정책 정기보너스 인센티브제 스톡옵션 우수사원포상 노타이  \\\n",
       "1    천일엔지니어링(주)   금융  2022년 중소기업 매출채권 팩토링 지원계획 공고     0     0    0      1   0   \n",
       "2  (주)에스티엠테크놀로지   금융  2022년 중소기업 매출채권 팩토링 지원계획 공고     0     1    0      1   1   \n",
       "\n",
       "  자유복장 출퇴근선택시간제  ... 자기계발비지원                  주요사업  산업1  산업2  산업3  산업4   성과보상  \\\n",
       "1    0        0  ...       0  자동차용 플라스틱 사출성형 제품 제조   기계   설비  자동차  NaN  False   \n",
       "2    0        0  ...       0      반도체관련부품, 전지전자 부품  제조업  NaN  NaN  NaN   True   \n",
       "\n",
       "    열린문화  건강한삶   역량성장  \n",
       "1  False  True  False  \n",
       "2   True  True  False  \n",
       "\n",
       "[2 rows x 33 columns]"
      ]
     },
     "execution_count": 12,
     "metadata": {},
     "output_type": "execute_result"
    }
   ],
   "source": [
    "data.head(2)"
   ]
  },
  {
   "cell_type": "code",
   "execution_count": 2,
   "metadata": {},
   "outputs": [],
   "source": [
    "import sqlite3"
   ]
  },
  {
   "cell_type": "code",
   "execution_count": null,
   "metadata": {},
   "outputs": [],
   "source": [
    "con = sqlite3.connect(\"C:/Django/Data_Processing/Data/Company.db\")\n",
    "data.to_sql('Company',con)"
   ]
  },
  {
   "cell_type": "code",
   "execution_count": 15,
   "metadata": {},
   "outputs": [],
   "source": [
    "con.commit()"
   ]
  }
 ],
 "metadata": {
  "kernelspec": {
   "display_name": "Python 3.10.6 ('.venv': venv)",
   "language": "python",
   "name": "python3"
  },
  "language_info": {
   "codemirror_mode": {
    "name": "ipython",
    "version": 3
   },
   "file_extension": ".py",
   "mimetype": "text/x-python",
   "name": "python",
   "nbconvert_exporter": "python",
   "pygments_lexer": "ipython3",
   "version": "3.10.6"
  },
  "orig_nbformat": 4,
  "vscode": {
   "interpreter": {
    "hash": "36923c5e2eaa7819b704acac1f9f2dafb0959bb21a228b12af6fb53c608d7776"
   }
  }
 },
 "nbformat": 4,
 "nbformat_minor": 2
}
