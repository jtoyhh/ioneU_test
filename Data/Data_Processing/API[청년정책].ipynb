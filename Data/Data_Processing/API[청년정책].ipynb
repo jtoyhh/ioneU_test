{
 "cells": [
  {
   "cell_type": "code",
   "execution_count": 1,
   "metadata": {},
   "outputs": [],
   "source": [
    "from urllib.parse import urlencode, unquote\n",
    "import requests\n",
    "import json\n",
    "import xmltodict\n",
    "import pandas as pd\n",
    "import math\n",
    "import numpy as np\n",
    "from datetime import datetime, date, timedelta"
   ]
  },
  {
   "cell_type": "code",
   "execution_count": 2,
   "metadata": {},
   "outputs": [],
   "source": [
    "url = \"https://www.youthcenter.go.kr/opi/empList.do\""
   ]
  },
  {
   "cell_type": "markdown",
   "metadata": {},
   "source": [
    "#### bizTycdSel\n",
    "정책유형 : 코드값을 사용합니다. 여러개 선택 시 ,(comma)로 분리하여 전송합니다.\n",
    ">\n",
    "```\n",
    "1. 취업지원 (004001) <=> 인력\n",
    "- 004001001 : 교육훈련·체험·인턴\n",
    "- 004001002 : 중소(중견)기업 취업지원\n",
    "- 004001003 : 전문분야 취업지원\n",
    "- 004001004 : 해외진출\n",
    "\n",
    "2. 창업지원 (004002) <=> 창업\n",
    "- 004002001 : R&D 지원\n",
    "- 004002002 : 경영 지원\n",
    "- 004002003 : 자본금 지원\n",
    "\n",
    "3. 주거·금융 (004003) <=> 금융\n",
    "- 004003001 : 생활비지원 및 금융 혜택\n",
    "- 004003002 : 주거지원\n",
    "- 004003003 : 학자금 지원\n",
    "\n",
    "4. 생활·복지 (004004) <=> 기타\n",
    "- 004004001 : 건강\n",
    "- 004004002 : 문화\n",
    "\n",
    "5. 정책참여 (004005) <=> 내수\n",
    "- 004005001 : 정책제안\n",
    "- 004005002 : 권리보호\n",
    "- 004005003 : 지역발전\n",
    "\n",
    "6. 코로나19 (004006) <=> 기타\n",
    "- 004006001 : 기본소득지원\n",
    "- 004006002 : 저소득층지원\n",
    "- 004006003 : 재난피해지원\n",
    "- 004006004 : 소득및일자리보전\n",
    "- 004006005 : 기타 인센티브\n",
    "- 004006006 : 심리지원\n",
    "```\n",
    ">\n",
    "#### srchPolyBizSecd\n",
    "- 지역코드 - 시,도 : 코드값을 사용합니다.\n",
    "- 여러개 선택 시 ,(comma)로 분리하여 전송합니다.\n",
    "- [코드 :시,도]\n",
    "- 003002001 :서울 | 003002002 :부산 | 003002003 :대구 | 003002004 :인천 | 003002005 :광주 | 003002006 :대전 | 003002007 :울산 | 003002008 :경기 | - 003002009 :강원 | 003002010 :충북 | 003002011 :충남 | 003002012 :전북 | 003002013 :전남 | 003002014 :경북 | 003002015 :경남 | 003002016 :제주 | - 003002017 :세종 |"
   ]
  },
  {
   "cell_type": "code",
   "execution_count": 3,
   "metadata": {},
   "outputs": [],
   "source": [
    "# queryString 입력 \n",
    "queryString = \"?\" + urlencode(\n",
    "    {\n",
    "     \"openApiVlak\": \"52ab18f81994346e24846b27\",  # 마이페이지 > OpenAPI관리 에서 발급받은 인증키 (필수)\n",
    "     \"display\" : \"100\",    # 출력건수, 기본값 10, 최대 100까지 가능합니다. (필수)\n",
    "     \"pageIndex\": \"1\",      # 조회할 페이지, 기본값 1 (필수)\n",
    "     #\"srchPolicyId\": \"\",  # 정책 ID : 상세화면 조회 시 필수\n",
    "     #\"query\": \"서울\",       # 키워드 검색어\n",
    "     \"bizTycdSel\": \"004001002\", # 중소(중견)기업 취업지원\n",
    "     #\"srchPolyBizSecd\" : \"\"\n",
    "    }\n",
    ")"
   ]
  },
  {
   "cell_type": "code",
   "execution_count": 4,
   "metadata": {},
   "outputs": [],
   "source": [
    "queryURL = url + queryString"
   ]
  },
  {
   "cell_type": "code",
   "execution_count": 5,
   "metadata": {},
   "outputs": [
    {
     "data": {
      "text/plain": [
       "'https://www.youthcenter.go.kr/opi/empList.do?openApiVlak=52ab18f81994346e24846b27&display=100&pageIndex=1&bizTycdSel=004001002'"
      ]
     },
     "execution_count": 5,
     "metadata": {},
     "output_type": "execute_result"
    }
   ],
   "source": [
    "queryURL"
   ]
  },
  {
   "cell_type": "code",
   "execution_count": 6,
   "metadata": {},
   "outputs": [],
   "source": [
    "response = requests.get(queryURL)"
   ]
  },
  {
   "cell_type": "code",
   "execution_count": 8,
   "metadata": {},
   "outputs": [],
   "source": [
    "jsonString = json.dumps(xmltodict.parse(response.text))"
   ]
  },
  {
   "cell_type": "code",
   "execution_count": 10,
   "metadata": {},
   "outputs": [],
   "source": [
    "data = json.loads(jsonString)"
   ]
  },
  {
   "cell_type": "code",
   "execution_count": 12,
   "metadata": {},
   "outputs": [],
   "source": [
    "data = data['empsInfo']['emp']"
   ]
  },
  {
   "cell_type": "code",
   "execution_count": 13,
   "metadata": {},
   "outputs": [],
   "source": [
    "data = pd.DataFrame.from_dict(data)"
   ]
  },
  {
   "cell_type": "code",
   "execution_count": 14,
   "metadata": {},
   "outputs": [],
   "source": [
    "data['plcyTpNm'] = data['plcyTpNm'].replace(['취업지원'],'인력')\n",
    "data['plcyTpNm'] = data['plcyTpNm'].replace(['창업지원'],'창업')\n",
    "data['plcyTpNm'] = data['plcyTpNm'].replace(['주거·금융'],'금융')\n",
    "data['plcyTpNm'] = data['plcyTpNm'].replace(['생활·복지'],'기타')\n",
    "data['plcyTpNm'] = data['plcyTpNm'].replace(['정책참여'],'내수')\n",
    "data['plcyTpNm'] = data['plcyTpNm'].replace(['코로나19'],'기타')"
   ]
  },
  {
   "cell_type": "markdown",
   "metadata": {},
   "source": [
    "#### srchPolyBizSecd\n",
    "- 지역코드 - 시,도 : 코드값을 사용합니다.\n",
    "- 여러개 선택 시 ,(comma)로 분리하여 전송합니다.\n",
    "- [코드 :시,도]\n",
    "- 003002001 :서울 | 003002002 :부산 | 003002003 :대구 | 003002004 :인천 | 003002005 :광주 | 003002006 :대전 | 003002007 :울산 | 003002008 :경기 | - 003002009 :강원 | 003002010 :충북 | 003002011 :충남 | 003002012 :전북 | 003002013 :전남 | 003002014 :경북 | 003002015 :경남 | 003002016 :제주 | - 003002017 :세종 |"
   ]
  },
  {
   "cell_type": "code",
   "execution_count": null,
   "metadata": {},
   "outputs": [],
   "source": [
    "data['polyBizSecd'] = data['polyBizSecd'].str.replace('003002001(.*)','서울', regex=True)\n",
    "data['polyBizSecd'] = data['polyBizSecd'].str.replace('003002002(.*)','부산', regex=True)\n",
    "data['polyBizSecd'] = data['polyBizSecd'].str.replace('003002003(.*)','대구', regex=True)\n",
    "data['polyBizSecd'] = data['polyBizSecd'].str.replace('003002004(.*)','인천', regex=True)\n",
    "data['polyBizSecd'] = data['polyBizSecd'].str.replace('003002005(.*)','광주', regex=True)\n",
    "data['polyBizSecd'] = data['polyBizSecd'].str.replace('003002006(.*)','대전', regex=True)\n",
    "data['polyBizSecd'] = data['polyBizSecd'].str.replace('003002007(.*)','울산', regex=True)\n",
    "data['polyBizSecd'] = data['polyBizSecd'].str.replace('003002008(.*)','경기', regex=True)\n",
    "data['polyBizSecd'] = data['polyBizSecd'].str.replace('003002009(.*)','강원', regex=True)\n",
    "data['polyBizSecd'] = data['polyBizSecd'].str.replace('003002010(.*)','충북', regex=True)\n",
    "data['polyBizSecd'] = data['polyBizSecd'].str.replace('003002011(.*)','충남', regex=True)\n",
    "data['polyBizSecd'] = data['polyBizSecd'].str.replace('003002012(.*)','전북', regex=True)\n",
    "data['polyBizSecd'] = data['polyBizSecd'].str.replace('003002013(.*)','전남', regex=True)\n",
    "data['polyBizSecd'] = data['polyBizSecd'].str.replace('003002014(.*)','경북', regex=True)\n",
    "data['polyBizSecd'] = data['polyBizSecd'].str.replace('003002015(.*)','경남', regex=True)\n",
    "data['polyBizSecd'] = data['polyBizSecd'].str.replace('003002016(.*)','제주', regex=True)\n",
    "data['polyBizSecd'] = data['polyBizSecd'].str.replace('003002017(.*)','세종', regex=True)"
   ]
  },
  {
   "cell_type": "code",
   "execution_count": 15,
   "metadata": {},
   "outputs": [
    {
     "name": "stdout",
     "output_type": "stream",
     "text": [
      "<class 'pandas.core.frame.DataFrame'>\n",
      "RangeIndex: 100 entries, 0 to 99\n",
      "Data columns (total 19 columns):\n",
      " #   Column         Non-Null Count  Dtype \n",
      "---  ------         --------------  ----- \n",
      " 0   rownum         100 non-null    object\n",
      " 1   bizId          100 non-null    object\n",
      " 2   polyBizSecd    100 non-null    object\n",
      " 3   polyBizTy      100 non-null    object\n",
      " 4   polyBizSjnm    100 non-null    object\n",
      " 5   polyItcnCn     100 non-null    object\n",
      " 6   plcyTpNm       100 non-null    object\n",
      " 7   sporScvl       100 non-null    object\n",
      " 8   sporCn         100 non-null    object\n",
      " 9   ageInfo        100 non-null    object\n",
      " 10  empmSttsCn     100 non-null    object\n",
      " 11  accrRqisCn     100 non-null    object\n",
      " 12  majrRqisCn     100 non-null    object\n",
      " 13  splzRlmRqisCn  100 non-null    object\n",
      " 14  cnsgNmor       100 non-null    object\n",
      " 15  rqutPrdCn      100 non-null    object\n",
      " 16  rqutProcCn     100 non-null    object\n",
      " 17  jdgnPresCn     100 non-null    object\n",
      " 18  rqutUrla       100 non-null    object\n",
      "dtypes: object(19)\n",
      "memory usage: 15.0+ KB\n"
     ]
    }
   ],
   "source": [
    "data.info()"
   ]
  },
  {
   "cell_type": "code",
   "execution_count": 16,
   "metadata": {},
   "outputs": [
    {
     "data": {
      "text/plain": [
       "array(['인력'], dtype=object)"
      ]
     },
     "execution_count": 16,
     "metadata": {},
     "output_type": "execute_result"
    }
   ],
   "source": [
    "data['plcyTpNm'].unique()"
   ]
  },
  {
   "cell_type": "code",
   "execution_count": 17,
   "metadata": {},
   "outputs": [],
   "source": [
    "import sqlite3"
   ]
  },
  {
   "cell_type": "code",
   "execution_count": 20,
   "metadata": {},
   "outputs": [
    {
     "data": {
      "text/plain": [
       "100"
      ]
     },
     "execution_count": 20,
     "metadata": {},
     "output_type": "execute_result"
    }
   ],
   "source": [
    "con = sqlite3.connect(\"C:/ioneU/Data/Data_Processing/Data/IONEJOB.db\")\n",
    "data.to_sql('청년정책_v3',con)"
   ]
  },
  {
   "cell_type": "code",
   "execution_count": 21,
   "metadata": {},
   "outputs": [],
   "source": [
    "con.commit()"
   ]
  }
 ],
 "metadata": {
  "kernelspec": {
   "display_name": "Python 3.9.5 ('.venv': venv)",
   "language": "python",
   "name": "python3"
  },
  "language_info": {
   "codemirror_mode": {
    "name": "ipython",
    "version": 3
   },
   "file_extension": ".py",
   "mimetype": "text/x-python",
   "name": "python",
   "nbconvert_exporter": "python",
   "pygments_lexer": "ipython3",
   "version": "3.10.6"
  },
  "orig_nbformat": 4,
  "vscode": {
   "interpreter": {
    "hash": "36923c5e2eaa7819b704acac1f9f2dafb0959bb21a228b12af6fb53c608d7776"
   }
  }
 },
 "nbformat": 4,
 "nbformat_minor": 2
}
